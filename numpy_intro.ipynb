{
 "cells": [
  {
   "cell_type": "markdown",
   "id": "conscious-chaos",
   "metadata": {},
   "source": [
    "# What? \n",
    "- Numpy is the fundamental package for scientific computing in Python.\n",
    "- The numpy array is an n-dimensional array.\n",
    "- Numpy methods allow for fast and simple linear algebra and data processing tasks.\n",
    "\n",
    "## So What? \n",
    "- Numpy is one of the main reasons why Python is so powerful and popular for scientific computing\n",
    "- Super fast. Numpy arrays are implemented in C, which makes numpy very fast.\n",
    "- Numpy is the most popular linear algebra library for Python\n",
    "- Provides loop-like behavior w/o the overhead of loops or list comprehensions (vectorized operations)\n",
    "- Provides list + loop + conditional behavior for filtering arrays\n",
    "\n",
    "## Now What?\n",
    "- Start working with numpy arrays! `np.array([1, 2, 3])` to create a numpy array!\n",
    "- We'll start using built-in numpy functions all the time:\n",
    "    - min, max, mean, sum, std\n",
    "    - np.median, \n",
    "- Learn to use some vectorized operations\n",
    "- Learn how to create arrays of booleans to filter results"
   ]
  },
  {
   "cell_type": "code",
   "execution_count": 1,
   "id": "inner-wheat",
   "metadata": {},
   "outputs": [],
   "source": [
    "import numpy as np"
   ]
  },
  {
   "cell_type": "code",
   "execution_count": 2,
   "id": "grand-housing",
   "metadata": {
    "scrolled": true
   },
   "outputs": [
    {
     "name": "stdout",
     "output_type": "stream",
     "text": [
      "224 ms ± 4.54 ms per loop (mean ± std. dev. of 7 runs, 1 loop each)\n"
     ]
    }
   ],
   "source": [
    "%%timeit\n",
    "[x ** 2 for x in range(1, 1_000_000)]"
   ]
  },
  {
   "cell_type": "code",
   "execution_count": 3,
   "id": "fixed-vancouver",
   "metadata": {},
   "outputs": [
    {
     "name": "stdout",
     "output_type": "stream",
     "text": [
      "1.97 ms ± 144 µs per loop (mean ± std. dev. of 7 runs, 100 loops each)\n"
     ]
    }
   ],
   "source": [
    "%%timeit\n",
    "np.arange(1, 1_000_000) ** 2"
   ]
  },
  {
   "cell_type": "code",
   "execution_count": 4,
   "id": "designed-pension",
   "metadata": {},
   "outputs": [
    {
     "data": {
      "text/plain": [
       "121.71052631578947"
      ]
     },
     "execution_count": 4,
     "metadata": {},
     "output_type": "execute_result"
    }
   ],
   "source": [
    "370 / 3.04"
   ]
  },
  {
   "cell_type": "markdown",
   "id": "palestinian-medium",
   "metadata": {},
   "source": [
    "C is \"closer to the metal\" than Python\n",
    "\n",
    "Assembly is closer to the metal than C\n",
    "\n",
    "and Processor instruction sets == are the metal!"
   ]
  },
  {
   "cell_type": "markdown",
   "id": "ce040669",
   "metadata": {},
   "source": [
    "## Getting Started\n",
    "- The `np.array` method converts iterables and collections into numpy arrays\n",
    "- The numpy array is n-dimensional, which means it's flexible."
   ]
  },
  {
   "cell_type": "code",
   "execution_count": 5,
   "id": "weighted-childhood",
   "metadata": {},
   "outputs": [
    {
     "data": {
      "text/plain": [
       "(array([1, 2, 3, 4, 5]), numpy.ndarray)"
      ]
     },
     "execution_count": 5,
     "metadata": {},
     "output_type": "execute_result"
    }
   ],
   "source": [
    "# Let's make our first numpy array!\n",
    "x = [1, 2, 3, 4, 5]\n",
    "x = np.array(x)\n",
    "x, type(x)"
   ]
  },
  {
   "cell_type": "code",
   "execution_count": 6,
   "id": "binary-kitchen",
   "metadata": {},
   "outputs": [
    {
     "data": {
      "text/plain": [
       "(5,)"
      ]
     },
     "execution_count": 6,
     "metadata": {},
     "output_type": "execute_result"
    }
   ],
   "source": [
    "# shape tells us the shape of our n-dimensional array\n",
    "x.shape"
   ]
  },
  {
   "cell_type": "markdown",
   "id": "319185fd",
   "metadata": {},
   "source": [
    "The `np.array()` method converts Python collections into numpy arrays of the appropriate dimension  "
   ]
  },
  {
   "cell_type": "code",
   "execution_count": 7,
   "id": "exempt-airfare",
   "metadata": {},
   "outputs": [
    {
     "data": {
      "text/plain": [
       "array([[1, 2, 3],\n",
       "       [4, 5, 6],\n",
       "       [7, 0, 9]])"
      ]
     },
     "execution_count": 7,
     "metadata": {},
     "output_type": "execute_result"
    }
   ],
   "source": [
    "matrix = np.array([\n",
    "    [1, 2, 3],\n",
    "    [4, 5, 6],\n",
    "    [7, 0, 9]\n",
    "])\n",
    "matrix"
   ]
  },
  {
   "cell_type": "code",
   "execution_count": 8,
   "id": "sharing-asbestos",
   "metadata": {},
   "outputs": [
    {
     "data": {
      "text/plain": [
       "numpy.ndarray"
      ]
     },
     "execution_count": 8,
     "metadata": {},
     "output_type": "execute_result"
    }
   ],
   "source": [
    "type(matrix)"
   ]
  },
  {
   "cell_type": "markdown",
   "id": "a2bdfa6d",
   "metadata": {},
   "source": [
    ".dtype is a property on numpy arrays"
   ]
  },
  {
   "cell_type": "code",
   "execution_count": 9,
   "id": "3f576a00",
   "metadata": {},
   "outputs": [
    {
     "data": {
      "text/plain": [
       "dtype('int64')"
      ]
     },
     "execution_count": 9,
     "metadata": {},
     "output_type": "execute_result"
    }
   ],
   "source": [
    "matrix.dtype"
   ]
  },
  {
   "cell_type": "markdown",
   "id": "2329d5bc",
   "metadata": {},
   "source": [
    "Numpy array element syntax is the same as Python (because it's Python)"
   ]
  },
  {
   "cell_type": "code",
   "execution_count": 10,
   "id": "fancy-sessions",
   "metadata": {},
   "outputs": [
    {
     "data": {
      "text/plain": [
       "array([1, 2, 3])"
      ]
     },
     "execution_count": 10,
     "metadata": {},
     "output_type": "execute_result"
    }
   ],
   "source": [
    "# zero indexed\n",
    "matrix[0]"
   ]
  },
  {
   "cell_type": "code",
   "execution_count": 11,
   "id": "japanese-running",
   "metadata": {},
   "outputs": [
    {
     "data": {
      "text/plain": [
       "1"
      ]
     },
     "execution_count": 11,
     "metadata": {},
     "output_type": "execute_result"
    }
   ],
   "source": [
    "# first element of the first array\n",
    "matrix[0][0]"
   ]
  },
  {
   "cell_type": "code",
   "execution_count": 12,
   "id": "arctic-prevention",
   "metadata": {},
   "outputs": [
    {
     "data": {
      "text/plain": [
       "1"
      ]
     },
     "execution_count": 12,
     "metadata": {},
     "output_type": "execute_result"
    }
   ],
   "source": [
    "# First element of the first array\n",
    "matrix[0, 0]"
   ]
  },
  {
   "cell_type": "code",
   "execution_count": 13,
   "id": "exact-message",
   "metadata": {},
   "outputs": [
    {
     "data": {
      "text/plain": [
       "array([1, 2, 3])"
      ]
     },
     "execution_count": 13,
     "metadata": {},
     "output_type": "execute_result"
    }
   ],
   "source": [
    "first_row = matrix[0]\n",
    "first_row"
   ]
  },
  {
   "cell_type": "code",
   "execution_count": 14,
   "id": "human-quantum",
   "metadata": {},
   "outputs": [
    {
     "data": {
      "text/plain": [
       "1"
      ]
     },
     "execution_count": 14,
     "metadata": {},
     "output_type": "execute_result"
    }
   ],
   "source": [
    "first_element = first_row[0]\n",
    "first_element"
   ]
  },
  {
   "cell_type": "markdown",
   "id": "51838dce",
   "metadata": {},
   "source": [
    "Slicing syntax works the same as in Python"
   ]
  },
  {
   "cell_type": "code",
   "execution_count": 15,
   "id": "appointed-sending",
   "metadata": {},
   "outputs": [
    {
     "data": {
      "text/plain": [
       "array([1, 2, 3])"
      ]
     },
     "execution_count": 15,
     "metadata": {},
     "output_type": "execute_result"
    }
   ],
   "source": [
    "x[0:3]"
   ]
  },
  {
   "cell_type": "code",
   "execution_count": 16,
   "id": "tutorial-adventure",
   "metadata": {},
   "outputs": [
    {
     "data": {
      "text/plain": [
       "array([ 1,  2,  3,  4,  5,  6,  7,  8,  9, 10, 11, 12, 13, 14, 15, 16, 17,\n",
       "       18, 19, 20, 21, 22, 23, 24, 25, 26, 27, 28, 29, 30, 31, 32, 33, 34,\n",
       "       35, 36, 37, 38, 39, 40, 41, 42, 43, 44, 45, 46, 47, 48, 49, 50, 51,\n",
       "       52, 53, 54, 55, 56, 57, 58, 59, 60, 61, 62, 63, 64, 65, 66, 67, 68,\n",
       "       69, 70, 71, 72, 73, 74, 75, 76, 77, 78, 79, 80, 81, 82, 83, 84, 85,\n",
       "       86, 87, 88, 89, 90, 91, 92, 93, 94, 95, 96, 97, 98, 99])"
      ]
     },
     "execution_count": 16,
     "metadata": {},
     "output_type": "execute_result"
    }
   ],
   "source": [
    "a = np.array(range(1, 100))\n",
    "a"
   ]
  },
  {
   "cell_type": "code",
   "execution_count": 17,
   "id": "broken-description",
   "metadata": {},
   "outputs": [
    {
     "data": {
      "text/plain": [
       "(4950, 50.0, 1, 99, 28.577380332470412)"
      ]
     },
     "execution_count": 17,
     "metadata": {},
     "output_type": "execute_result"
    }
   ],
   "source": [
    "# Numpy has many descriptive statistics as methods\n",
    "a.sum(), a.mean(), a.min(), a.max(), a.std()"
   ]
  },
  {
   "cell_type": "code",
   "execution_count": 18,
   "id": "academic-background",
   "metadata": {},
   "outputs": [
    {
     "data": {
      "text/plain": [
       "50.0"
      ]
     },
     "execution_count": 18,
     "metadata": {},
     "output_type": "execute_result"
    }
   ],
   "source": [
    "# Calling .median off of the class instead of the array objects\n",
    "np.median(a)"
   ]
  },
  {
   "cell_type": "code",
   "execution_count": 19,
   "id": "impaired-rendering",
   "metadata": {},
   "outputs": [
    {
     "data": {
      "text/plain": [
       "array([3, 5])"
      ]
     },
     "execution_count": 19,
     "metadata": {},
     "output_type": "execute_result"
    }
   ],
   "source": [
    "b = np.array([2, 3, 4, 5])\n",
    "should_include_elements = np.array([False, True, False, True])\n",
    "b[should_include_elements]"
   ]
  },
  {
   "cell_type": "code",
   "execution_count": 20,
   "id": "agreed-concern",
   "metadata": {},
   "outputs": [
    {
     "data": {
      "text/plain": [
       "array([[4, 5, 6],\n",
       "       [7, 0, 9]])"
      ]
     },
     "execution_count": 20,
     "metadata": {},
     "output_type": "execute_result"
    }
   ],
   "source": [
    "should_include_elements = np.array([False, True, True])\n",
    "matrix[should_include_elements]"
   ]
  },
  {
   "cell_type": "markdown",
   "id": "metropolitan-dryer",
   "metadata": {},
   "source": [
    "## Arrays of Booleans == Beating Heart of Filtering/Transforming Arrays\n",
    "- This is how we can do loop-like stuff w/o loops\n",
    "- This \"spell\" is called \"Boolean Masking\" and folks may \"array filtering\" or \"indexing\""
   ]
  },
  {
   "cell_type": "code",
   "execution_count": 21,
   "id": "awful-hamburg",
   "metadata": {},
   "outputs": [],
   "source": [
    "x = np.array([1, 2, 3, 4, 5])"
   ]
  },
  {
   "cell_type": "code",
   "execution_count": 22,
   "id": "magnetic-index",
   "metadata": {},
   "outputs": [
    {
     "data": {
      "text/plain": [
       "array([False, False,  True, False, False])"
      ]
     },
     "execution_count": 22,
     "metadata": {},
     "output_type": "execute_result"
    }
   ],
   "source": [
    "x == 3"
   ]
  },
  {
   "cell_type": "code",
   "execution_count": 23,
   "id": "chubby-vulnerability",
   "metadata": {},
   "outputs": [
    {
     "data": {
      "text/plain": [
       "array([False, False, False, False, False])"
      ]
     },
     "execution_count": 23,
     "metadata": {},
     "output_type": "execute_result"
    }
   ],
   "source": [
    "x < -9"
   ]
  },
  {
   "cell_type": "code",
   "execution_count": 24,
   "id": "fifty-cherry",
   "metadata": {},
   "outputs": [
    {
     "data": {
      "text/plain": [
       "array([False, False, False,  True,  True])"
      ]
     },
     "execution_count": 24,
     "metadata": {},
     "output_type": "execute_result"
    }
   ],
   "source": [
    "x > 3"
   ]
  },
  {
   "cell_type": "code",
   "execution_count": 25,
   "id": "integrated-skill",
   "metadata": {},
   "outputs": [
    {
     "data": {
      "text/plain": [
       "array([False,  True, False,  True, False])"
      ]
     },
     "execution_count": 25,
     "metadata": {},
     "output_type": "execute_result"
    }
   ],
   "source": [
    "x % 2 == 0"
   ]
  },
  {
   "cell_type": "code",
   "execution_count": 26,
   "id": "opening-address",
   "metadata": {},
   "outputs": [
    {
     "data": {
      "text/plain": [
       "array([3])"
      ]
     },
     "execution_count": 26,
     "metadata": {},
     "output_type": "execute_result"
    }
   ],
   "source": [
    "only_threes = x == 3\n",
    "x[only_threes]"
   ]
  },
  {
   "cell_type": "code",
   "execution_count": 27,
   "id": "linear-september",
   "metadata": {},
   "outputs": [
    {
     "data": {
      "text/plain": [
       "array([3])"
      ]
     },
     "execution_count": 27,
     "metadata": {},
     "output_type": "execute_result"
    }
   ],
   "source": [
    "# We don't need the extra variable, however, we can do the following:\n",
    "# I read this code almost like SQL in my head:\n",
    "# Select X where X is equal to 3\n",
    "x[x == 3]"
   ]
  },
  {
   "cell_type": "code",
   "execution_count": 28,
   "id": "static-blond",
   "metadata": {},
   "outputs": [
    {
     "data": {
      "text/plain": [
       "array([], dtype=int64)"
      ]
     },
     "execution_count": 28,
     "metadata": {},
     "output_type": "execute_result"
    }
   ],
   "source": [
    "# Select X where X is less than zero\n",
    "x[x < 0]"
   ]
  },
  {
   "cell_type": "code",
   "execution_count": 29,
   "id": "adjustable-albania",
   "metadata": {},
   "outputs": [
    {
     "data": {
      "text/plain": [
       "array([4, 5])"
      ]
     },
     "execution_count": 29,
     "metadata": {},
     "output_type": "execute_result"
    }
   ],
   "source": [
    "# Select x where x is greater than 3\n",
    "x[x > 3]"
   ]
  },
  {
   "cell_type": "code",
   "execution_count": 30,
   "id": "conventional-identity",
   "metadata": {},
   "outputs": [
    {
     "data": {
      "text/plain": [
       "array([2, 4])"
      ]
     },
     "execution_count": 30,
     "metadata": {},
     "output_type": "execute_result"
    }
   ],
   "source": [
    "# Select x where x divided by two leaves no remainder\n",
    "evens_from_x = x[x % 2 == 0]\n",
    "evens_from_x"
   ]
  },
  {
   "cell_type": "code",
   "execution_count": 31,
   "id": "disabled-juice",
   "metadata": {},
   "outputs": [
    {
     "data": {
      "text/plain": [
       "array([  2,  34,   6,  24, 442,  24,  12,  24,  10])"
      ]
     },
     "execution_count": 31,
     "metadata": {},
     "output_type": "execute_result"
    }
   ],
   "source": [
    "# In the Python admissions test, there was a question called \"remove_evens\" where you write a function that removes evens\n",
    "# In base Python, this is a loop w/ a conditional and another operation to append to a list, or a list comprehension\n",
    "def remove_evens(x):\n",
    "    x = np.array(x)\n",
    "    return x[x % 2 == 0]\n",
    "\n",
    "y = remove_evens([2, 3, 34, 5, 6, 24, 442, 24, 12, 3, 24, 3, 3, 23, 23, 23, 10])\n",
    "y"
   ]
  },
  {
   "cell_type": "code",
   "execution_count": 32,
   "id": "subsequent-warehouse",
   "metadata": {},
   "outputs": [],
   "source": [
    "x = np.array([1, 2, \"3\", 4])"
   ]
  },
  {
   "cell_type": "code",
   "execution_count": 33,
   "id": "trained-deadline",
   "metadata": {},
   "outputs": [
    {
     "data": {
      "text/plain": [
       "array(['1', '2', '3', '4'], dtype='<U21')"
      ]
     },
     "execution_count": 33,
     "metadata": {},
     "output_type": "execute_result"
    }
   ],
   "source": [
    "x"
   ]
  },
  {
   "cell_type": "markdown",
   "id": "medium-generation",
   "metadata": {},
   "source": [
    "## Intro to Vectorization\n",
    "- Loop like behavior on a array w/o the loop"
   ]
  },
  {
   "cell_type": "code",
   "execution_count": 34,
   "id": "theoretical-stamp",
   "metadata": {},
   "outputs": [
    {
     "data": {
      "text/plain": [
       "array([0., 0., 0., 0., 0., 0., 0., 0., 0., 0.])"
      ]
     },
     "execution_count": 34,
     "metadata": {},
     "output_type": "execute_result"
    }
   ],
   "source": [
    "x = np.zeros(10)\n",
    "x"
   ]
  },
  {
   "cell_type": "code",
   "execution_count": 35,
   "id": "criminal-douglas",
   "metadata": {},
   "outputs": [
    {
     "data": {
      "text/plain": [
       "array([1., 1., 1., 1., 1., 1., 1., 1., 1., 1.])"
      ]
     },
     "execution_count": 35,
     "metadata": {},
     "output_type": "execute_result"
    }
   ],
   "source": [
    "x + 1"
   ]
  },
  {
   "cell_type": "code",
   "execution_count": 36,
   "id": "polyphonic-reason",
   "metadata": {},
   "outputs": [
    {
     "data": {
      "text/plain": [
       "12"
      ]
     },
     "execution_count": 36,
     "metadata": {},
     "output_type": "execute_result"
    }
   ],
   "source": [
    "# Let's make an array of random integers\n",
    "# start is inclusive, end is exclusive\n",
    "# So the following line is like rolling a 20 sided die\n",
    "x = np.random.randint(1, 21)\n",
    "x"
   ]
  },
  {
   "cell_type": "code",
   "execution_count": 37,
   "id": "passive-shield",
   "metadata": {},
   "outputs": [
    {
     "data": {
      "text/plain": [
       "array([13, 18, 12,  7,  6, 17, 13, 16, 13, 18])"
      ]
     },
     "execution_count": 37,
     "metadata": {},
     "output_type": "execute_result"
    }
   ],
   "source": [
    "# 3rd argument is the size (or the number of random numbers)\n",
    "x = np.random.randint(1, 21, 10)\n",
    "x"
   ]
  },
  {
   "cell_type": "code",
   "execution_count": 38,
   "id": "funded-sound",
   "metadata": {},
   "outputs": [
    {
     "data": {
      "text/plain": [
       "[2, 3, 4]"
      ]
     },
     "execution_count": 38,
     "metadata": {},
     "output_type": "execute_result"
    }
   ],
   "source": [
    "# Let's make Python fall on its face\n",
    "a = [1, 2, 3]\n",
    "\n",
    "# In Python, how would we add one to every item on this list?\n",
    "[n + 1 for n in a]"
   ]
  },
  {
   "cell_type": "code",
   "execution_count": 39,
   "id": "cooked-psychiatry",
   "metadata": {},
   "outputs": [
    {
     "data": {
      "text/plain": [
       "array([14, 19, 13,  8,  7, 18, 14, 17, 14, 19])"
      ]
     },
     "execution_count": 39,
     "metadata": {},
     "output_type": "execute_result"
    }
   ],
   "source": [
    "x + 1"
   ]
  },
  {
   "cell_type": "code",
   "execution_count": 40,
   "id": "naughty-mistress",
   "metadata": {},
   "outputs": [
    {
     "data": {
      "text/plain": [
       "array([1.3, 1.8, 1.2, 0.7, 0.6, 1.7, 1.3, 1.6, 1.3, 1.8])"
      ]
     },
     "execution_count": 40,
     "metadata": {},
     "output_type": "execute_result"
    }
   ],
   "source": [
    "# elementwise division\n",
    "x / 10"
   ]
  },
  {
   "cell_type": "code",
   "execution_count": 41,
   "id": "intimate-business",
   "metadata": {},
   "outputs": [
    {
     "data": {
      "text/plain": [
       "array([26, 36, 24, 14, 12, 34, 26, 32, 26, 36])"
      ]
     },
     "execution_count": 41,
     "metadata": {},
     "output_type": "execute_result"
    }
   ],
   "source": [
    "# Vector addition\n",
    "x + x"
   ]
  },
  {
   "cell_type": "code",
   "execution_count": 42,
   "id": "educated-address",
   "metadata": {},
   "outputs": [
    {
     "data": {
      "text/plain": [
       "array([-13, -18, -12,  -7,  -6, -17, -13, -16, -13, -18])"
      ]
     },
     "execution_count": 42,
     "metadata": {},
     "output_type": "execute_result"
    }
   ],
   "source": [
    "# scalar-vector multiplication along w/ vector subtraction\n",
    "x - 2*x"
   ]
  },
  {
   "cell_type": "code",
   "execution_count": 43,
   "id": "behind-paste",
   "metadata": {},
   "outputs": [
    {
     "data": {
      "text/plain": [
       "1929"
      ]
     },
     "execution_count": 43,
     "metadata": {},
     "output_type": "execute_result"
    }
   ],
   "source": [
    "# There's many more linear algebra features\n",
    "np.dot(x, x)"
   ]
  },
  {
   "cell_type": "code",
   "execution_count": 44,
   "id": "successful-association",
   "metadata": {},
   "outputs": [
    {
     "data": {
      "text/plain": [
       "43.9203825119955"
      ]
     },
     "execution_count": 44,
     "metadata": {},
     "output_type": "execute_result"
    }
   ],
   "source": [
    "np.linalg.norm(x)"
   ]
  },
  {
   "cell_type": "code",
   "execution_count": 45,
   "id": "governing-douglas",
   "metadata": {},
   "outputs": [
    {
     "data": {
      "text/plain": [
       "[2, 3, 4, 5, 6]"
      ]
     },
     "execution_count": 45,
     "metadata": {},
     "output_type": "execute_result"
    }
   ],
   "source": [
    "original_array = [1, 2, 3, 4, 5]\n",
    "array_with_one_added = []\n",
    "for n in original_array:\n",
    "    array_with_one_added.append(n + 1)\n",
    "array_with_one_added"
   ]
  },
  {
   "cell_type": "code",
   "execution_count": 46,
   "id": "comfortable-privilege",
   "metadata": {},
   "outputs": [
    {
     "data": {
      "text/plain": [
       "array([2, 3, 4, 5, 6])"
      ]
     },
     "execution_count": 46,
     "metadata": {},
     "output_type": "execute_result"
    }
   ],
   "source": [
    "np.array(original_array) + 1"
   ]
  },
  {
   "cell_type": "code",
   "execution_count": 47,
   "id": "sitting-equilibrium",
   "metadata": {},
   "outputs": [],
   "source": [
    "beatles = np.array([\"Ringo\", \"George\", \"Paul\", \"John\"])"
   ]
  },
  {
   "cell_type": "code",
   "execution_count": 48,
   "id": "disabled-musician",
   "metadata": {},
   "outputs": [
    {
     "data": {
      "text/plain": [
       "array([ True, False, False, False])"
      ]
     },
     "execution_count": 48,
     "metadata": {},
     "output_type": "execute_result"
    }
   ],
   "source": [
    "beatles == \"Ringo\""
   ]
  },
  {
   "cell_type": "code",
   "execution_count": 49,
   "id": "utility-revision",
   "metadata": {},
   "outputs": [
    {
     "data": {
      "text/plain": [
       "array(['George', 'Paul', 'John'], dtype='<U6')"
      ]
     },
     "execution_count": 49,
     "metadata": {},
     "output_type": "execute_result"
    }
   ],
   "source": [
    "beatles[beatles != \"Ringo\"]"
   ]
  },
  {
   "cell_type": "code",
   "execution_count": 50,
   "id": "likely-probability",
   "metadata": {},
   "outputs": [
    {
     "data": {
      "text/plain": [
       "array(['Ringo'], dtype='<U6')"
      ]
     },
     "execution_count": 50,
     "metadata": {},
     "output_type": "execute_result"
    }
   ],
   "source": [
    "beatles[beatles == \"Ringo\"]"
   ]
  },
  {
   "cell_type": "code",
   "execution_count": 51,
   "id": "instrumental-running",
   "metadata": {},
   "outputs": [
    {
     "data": {
      "text/plain": [
       "array([[ 2,  4,  6],\n",
       "       [ 8, 10, 12],\n",
       "       [14,  0, 18]])"
      ]
     },
     "execution_count": 51,
     "metadata": {},
     "output_type": "execute_result"
    }
   ],
   "source": [
    "matrix * 2"
   ]
  },
  {
   "cell_type": "code",
   "execution_count": 52,
   "id": "fabulous-process",
   "metadata": {},
   "outputs": [
    {
     "data": {
      "text/plain": [
       "1929"
      ]
     },
     "execution_count": 52,
     "metadata": {},
     "output_type": "execute_result"
    }
   ],
   "source": [
    "# Inner product\n",
    "np.dot(x, x)"
   ]
  },
  {
   "cell_type": "code",
   "execution_count": 53,
   "id": "dynamic-caribbean",
   "metadata": {},
   "outputs": [
    {
     "data": {
      "text/plain": [
       "array([ 0.45982871,  0.35720387, -3.0301247 ,  0.45522815,  2.63510564,\n",
       "       -3.16151473,  0.09190138, -0.22853473,  1.26207173, -1.85474689])"
      ]
     },
     "execution_count": 53,
     "metadata": {},
     "output_type": "execute_result"
    }
   ],
   "source": [
    "np.random.randn(10)"
   ]
  },
  {
   "cell_type": "code",
   "execution_count": 54,
   "id": "about-carry",
   "metadata": {},
   "outputs": [
    {
     "data": {
      "text/plain": [
       "array([5, 4, 4, 3, 1, 6])"
      ]
     },
     "execution_count": 54,
     "metadata": {},
     "output_type": "execute_result"
    }
   ],
   "source": [
    "np.random.randint(1, 7, 6)"
   ]
  },
  {
   "cell_type": "markdown",
   "id": "cb936a34",
   "metadata": {},
   "source": [
    "## NumPy Official Documentation\n",
    "- [NumPy Homepage](https://numpy.org/)\n",
    "- [NumPy Quickstart](https://numpy.org/devdocs/user/quickstart.html)\n",
    "\n",
    "\n",
    "## Other Works by [Ryan Orsinger](https://github.com/ryanorsinger)\n",
    "- [101 Exercises](https://101exercises.com/) for Python or JavaScript basics\n",
    "- [90 Minutes to Machine Learning](https://www.youtube.com/watch?v=VMx_3yM6G9s)\n",
    "\n",
    "##### [Apply to Codeup](https://codeup.com/)'s Data Science program to learn numpy and much more with Ryan and the entire team"
   ]
  }
 ],
 "metadata": {
  "kernelspec": {
   "display_name": "Python 3 (ipykernel)",
   "language": "python",
   "name": "python3"
  },
  "language_info": {
   "codemirror_mode": {
    "name": "ipython",
    "version": 3
   },
   "file_extension": ".py",
   "mimetype": "text/x-python",
   "name": "python",
   "nbconvert_exporter": "python",
   "pygments_lexer": "ipython3",
   "version": "3.8.5"
  }
 },
 "nbformat": 4,
 "nbformat_minor": 5
}
